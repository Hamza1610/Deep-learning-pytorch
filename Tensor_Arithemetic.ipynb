{
 "cells": [
  {
   "cell_type": "markdown",
   "metadata": {
    "vscode": {
     "languageId": "plaintext"
    }
   },
   "source": [
    "# Tensor Vector Arithemetics"
   ]
  },
  {
   "cell_type": "code",
   "execution_count": 2,
   "metadata": {},
   "outputs": [],
   "source": [
    "import torch"
   ]
  },
  {
   "cell_type": "code",
   "execution_count": 6,
   "metadata": {},
   "outputs": [],
   "source": [
    "torch_1 =  torch.tensor([2, 4, 6, 6, 34, 5])\n",
    "torch_2 =  torch.tensor([23, 44, 1, 7, 323, 4])"
   ]
  },
  {
   "cell_type": "code",
   "execution_count": null,
   "metadata": {},
   "outputs": [
    {
     "name": "stdout",
     "output_type": "stream",
     "text": [
      "tensor([ 25,  48,   7,  13, 357,   9])\n",
      "tensor([ 25,  48,   7,  13, 357,   9])\n",
      "tensor([ 2,  4,  6,  6, 34,  5])\n",
      "tensor([ 25,  48,   7,  13, 357,   9])\n"
     ]
    }
   ],
   "source": [
    "# Add the two tensors\n",
    "print(torch.add(torch_1, torch_2))\n",
    "print(torch_1.add(torch_2)) \n",
    "print(torch_1)\n",
    "3print(torch_1.add_(torch_2))  # this update torch_1 with the result"
   ]
  },
  {
   "cell_type": "code",
   "execution_count": 12,
   "metadata": {},
   "outputs": [
    {
     "name": "stdout",
     "output_type": "stream",
     "text": [
      "tensor([ 2,  4,  6,  6, 34,  5])\n",
      "tensor([ 2,  4,  6,  6, 34,  5])\n",
      "tensor([ 25,  48,   7,  13, 357,   9])\n"
     ]
    }
   ],
   "source": [
    "# Subtraction the two tensors\n",
    "print(torch.sub(torch_1, torch_2))\n",
    "print(torch_1.sub(torch_2)) \n",
    "print(torch_1)"
   ]
  },
  {
   "cell_type": "code",
   "execution_count": 14,
   "metadata": {},
   "outputs": [
    {
     "name": "stdout",
     "output_type": "stream",
     "text": [
      "tensor([   575,   2112,      7,     91, 115311,     36])\n",
      "tensor([   575,   2112,      7,     91, 115311,     36])\n",
      "tensor([ 25,  48,   7,  13, 357,   9])\n",
      "tensor([   575,   2112,      7,     91, 115311,     36])\n"
     ]
    }
   ],
   "source": [
    "# Multiply the two tensors\n",
    "print(torch.mul(torch_1, torch_2))\n",
    "print(torch_1.mul(torch_2)) \n",
    "print(torch_1)\n",
    "print(torch_1.mul_(torch_2))  # this update torch_1 with the result"
   ]
  },
  {
   "cell_type": "code",
   "execution_count": 22,
   "metadata": {},
   "outputs": [
    {
     "name": "stdout",
     "output_type": "stream",
     "text": [
      "tensor([ 25.,  48.,   7.,  13., 357.,   9.])\n",
      "tensor([ 25.,  48.,   7.,  13., 357.,   9.])\n",
      "tensor([   575,   2112,      7,     91, 115311,     36])\n"
     ]
    },
    {
     "data": {
      "text/plain": [
       "tensor([0.0400, 0.0208, 0.1429, 0.0769, 0.0028, 0.1111])"
      ]
     },
     "execution_count": 22,
     "metadata": {},
     "output_type": "execute_result"
    }
   ],
   "source": [
    "# Divide the two tensors\n",
    "print(torch.div(torch_1, torch_2))\n",
    "print(torch_1.div(torch_2)) \n",
    "print(torch_1)\n",
    "\n",
    "torch_2.div(torch_1) # this update torch_1 with the result"
   ]
  },
  {
   "cell_type": "code",
   "execution_count": null,
   "metadata": {},
   "outputs": [
    {
     "name": "stdout",
     "output_type": "stream",
     "text": [
      "tensor([0, 0, 0, 0, 0, 0])\n",
      "tensor([0, 0, 0, 0, 0, 0])\n",
      "tensor([   13225,    92928,        7,      637, 37245453,      144])\n"
     ]
    }
   ],
   "source": [
    "# Moduls/Remainder the two tensors\n",
    "print(torch.remainder(torch_1, torch_2))\n",
    "print(torch_1.remainder(torch_2)) \n",
    "print(torch_1)"
   ]
  },
  {
   "cell_type": "code",
   "execution_count": 25,
   "metadata": {},
   "outputs": [
    {
     "name": "stdout",
     "output_type": "stream",
     "text": [
      "tensor([ 7547538632788678489,                    0,                    7,\n",
      "         5664003869038611701, -5766625050163001451,            429981696])\n",
      "tensor([ 7547538632788678489,                    0,                    7,\n",
      "         5664003869038611701, -5766625050163001451,            429981696])\n",
      "tensor([   13225,    92928,        7,      637, 37245453,      144])\n"
     ]
    }
   ],
   "source": [
    "# Power the two tensors\n",
    "print(torch.pow(torch_1, torch_2))\n",
    "print(torch_1.pow(torch_2)) \n",
    "print(torch_1)"
   ]
  },
  {
   "cell_type": "code",
   "execution_count": 27,
   "metadata": {},
   "outputs": [
    {
     "name": "stdout",
     "output_type": "stream",
     "text": [
      "tensor([   13248,    92972,        8,      644, 37245776,      148])\n",
      "tensor([   -13202,    -92884,        -6,      -630, -37245130,      -140])\n",
      "tensor([1.7391e-03, 4.7348e-04, 1.4286e-01, 1.0989e-02, 8.6722e-06, 2.7778e-02])\n",
      "tensor([     304175,     4088832,           7,        4459, 12030281319,\n",
      "                576])\n",
      "tensor([-3660118301321106729,                    0,                    1,\n",
      "          941166106811645543,  3379465781078161427,                    0])\n",
      "tensor([ 23,  44,   1,   7, 323,   4])\n"
     ]
    }
   ],
   "source": [
    "# Simply way to do\n",
    "\n",
    "print(torch_2 + torch_1) # add\n",
    "print(torch_2 - torch_1) # sub\n",
    "print(torch_2 / torch_1) # div\n",
    "print(torch_2 * torch_1) # mul\n",
    "print(torch_2 ** torch_1) # pow\n",
    "print(torch_2 % torch_1) #remainder\n"
   ]
  },
  {
   "cell_type": "code",
   "execution_count": null,
   "metadata": {},
   "outputs": [],
   "source": []
  }
 ],
 "metadata": {
  "kernelspec": {
   "display_name": "base",
   "language": "python",
   "name": "python3"
  },
  "language_info": {
   "codemirror_mode": {
    "name": "ipython",
    "version": 3
   },
   "file_extension": ".py",
   "mimetype": "text/x-python",
   "name": "python",
   "nbconvert_exporter": "python",
   "pygments_lexer": "ipython3",
   "version": "3.10.9"
  }
 },
 "nbformat": 4,
 "nbformat_minor": 2
}
