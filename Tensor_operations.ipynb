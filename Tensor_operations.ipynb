{
 "cells": [
  {
   "cell_type": "markdown",
   "metadata": {},
   "source": [
    "# Tensor Operations"
   ]
  },
  {
   "cell_type": "code",
   "execution_count": 2,
   "metadata": {},
   "outputs": [],
   "source": [
    "import torch"
   ]
  },
  {
   "cell_type": "markdown",
   "metadata": {},
   "source": [
    "## Add, Subtract, Multiply, and Divide torch"
   ]
  },
  {
   "cell_type": "code",
   "execution_count": 3,
   "metadata": {},
   "outputs": [
    {
     "name": "stdout",
     "output_type": "stream",
     "text": [
      "Divided tensors:  tensor([0.0118, 0.0157, 0.0196, 0.0235, 0.0275, 0.0314, 0.0353, 0.0392, 0.0431,\n",
      "        0.0471, 0.0510, 0.0549, 0.0588, 0.0627, 0.0667, 0.0706, 0.0745, 0.0784,\n",
      "        0.0824, 0.0863, 0.0902, 0.0941, 0.0980, 0.1020, 0.1059, 0.1098, 0.1137,\n",
      "        0.1176, 0.1216, 0.1255, 0.1294, 0.1333, 0.1373, 0.1412, 0.1451, 0.1490,\n",
      "        0.1529, 0.1569, 0.1608, 0.1647, 0.1686, 0.1725])\n",
      "====================================================================================================\n",
      "Multiply tensors:  tensor([  765,  1020,  1275,  1530,  1785,  2040,  2295,  2550,  2805,  3060,\n",
      "         3315,  3570,  3825,  4080,  4335,  4590,  4845,  5100,  5355,  5610,\n",
      "         5865,  6120,  6375,  6630,  6885,  7140,  7395,  7650,  7905,  8160,\n",
      "         8415,  8670,  8925,  9180,  9435,  9690,  9945, 10200, 10455, 10710,\n",
      "        10965, 11220])\n",
      "====================================================================================================\n",
      "Sum tensors:  tensor([258, 259, 260, 261, 262, 263, 264, 265, 266, 267, 268, 269, 270, 271,\n",
      "        272, 273, 274, 275, 276, 277, 278, 279, 280, 281, 282, 283, 284, 285,\n",
      "        286, 287, 288, 289, 290, 291, 292, 293, 294, 295, 296, 297, 298, 299])\n",
      "====================================================================================================\n",
      "Subtract tensors:  tensor([-252, -251, -250, -249, -248, -247, -246, -245, -244, -243, -242, -241,\n",
      "        -240, -239, -238, -237, -236, -235, -234, -233, -232, -231, -230, -229,\n",
      "        -228, -227, -226, -225, -224, -223, -222, -221, -220, -219, -218, -217,\n",
      "        -216, -215, -214, -213, -212, -211])\n"
     ]
    }
   ],
   "source": [
    "def seperator(number: int):\n",
    "    print(\"=\"*number)\n",
    "\n",
    "torch_1 = torch.arange(3, 45)\n",
    "\n",
    "divide_tensor = torch_1 / 255\n",
    "mul_tensor = torch_1 * 255\n",
    "add_tensor = torch_1 + 255\n",
    "sub_tensor = torch_1 - 255\n",
    "\n",
    "print('Divided tensors: ', divide_tensor)\n",
    "seperator(100)\n",
    "print('Multiply tensors: ', mul_tensor)\n",
    "\n",
    "seperator(100)\n",
    "print('Sum tensors: ', add_tensor)\n",
    "\n",
    "seperator(100)\n",
    "print('Subtract tensors: ', sub_tensor)"
   ]
  },
  {
   "cell_type": "markdown",
   "metadata": {},
   "source": [
    "## Reshape and View"
   ]
  },
  {
   "cell_type": "code",
   "execution_count": 4,
   "metadata": {},
   "outputs": [
    {
     "data": {
      "text/plain": [
       "tensor([0, 1, 2, 3, 4, 5, 6, 7, 8, 9])"
      ]
     },
     "execution_count": 4,
     "metadata": {},
     "output_type": "execute_result"
    }
   ],
   "source": [
    "torch_1d = torch.arange(10)\n",
    "torch_1d"
   ]
  },
  {
   "cell_type": "code",
   "execution_count": 5,
   "metadata": {},
   "outputs": [
    {
     "data": {
      "text/plain": [
       "tensor([[0, 1],\n",
       "        [2, 3],\n",
       "        [4, 5],\n",
       "        [6, 7],\n",
       "        [8, 9]])"
      ]
     },
     "execution_count": 5,
     "metadata": {},
     "output_type": "execute_result"
    }
   ],
   "source": [
    "torch_reshape_1 = torch_1d.reshape(5, 2)\n",
    "torch_reshape_1"
   ]
  },
  {
   "cell_type": "markdown",
   "metadata": {},
   "source": [
    "## Get some part of the torch"
   ]
  },
  {
   "cell_type": "code",
   "execution_count": 14,
   "metadata": {},
   "outputs": [],
   "source": [
    "torch_4 = torch.arange(50)\n",
    "torch_5 = torch_4.reshape(2, 5, 5)"
   ]
  },
  {
   "cell_type": "code",
   "execution_count": null,
   "metadata": {},
   "outputs": [
    {
     "data": {
      "text/plain": [
       "tensor([[[ 4],\n",
       "         [ 9]],\n",
       "\n",
       "        [[29],\n",
       "         [34]]])"
      ]
     },
     "execution_count": 22,
     "metadata": {},
     "output_type": "execute_result"
    }
   ],
   "source": [
    "# Grab the  all from dim 1, tensor bedore third row and tensor after 5 row(including)\n",
    "\n",
    "torch_5[:, :2, 4:]"
   ]
  },
  {
   "cell_type": "code",
   "execution_count": 24,
   "metadata": {},
   "outputs": [
    {
     "data": {
      "text/plain": [
       "torch.Size([2, 2, 1])"
      ]
     },
     "execution_count": 24,
     "metadata": {},
     "output_type": "execute_result"
    }
   ],
   "source": [
    "torch_6 = torch_5[:, :2, 4:]\n",
    "torch_6.shape"
   ]
  },
  {
   "cell_type": "code",
   "execution_count": 31,
   "metadata": {},
   "outputs": [
    {
     "data": {
      "text/plain": [
       "(tensor([9]), tensor([34]))"
      ]
     },
     "execution_count": 31,
     "metadata": {},
     "output_type": "execute_result"
    }
   ],
   "source": [
    "torch_6[0][1], torch_6[1][1]"
   ]
  },
  {
   "cell_type": "code",
   "execution_count": null,
   "metadata": {},
   "outputs": [],
   "source": []
  }
 ],
 "metadata": {
  "kernelspec": {
   "display_name": "base",
   "language": "python",
   "name": "python3"
  },
  "language_info": {
   "codemirror_mode": {
    "name": "ipython",
    "version": 3
   },
   "file_extension": ".py",
   "mimetype": "text/x-python",
   "name": "python",
   "nbconvert_exporter": "python",
   "pygments_lexer": "ipython3",
   "version": "3.10.9"
  }
 },
 "nbformat": 4,
 "nbformat_minor": 2
}
